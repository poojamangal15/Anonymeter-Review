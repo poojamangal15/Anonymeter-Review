{
 "cells": [
  {
   "attachments": {},
   "cell_type": "markdown",
   "id": "66b36556-e9af-4cf9-bb9c-25f12d3fc322",
   "metadata": {},
   "source": [
    "# Anonymeter Vehicle coupon recommendation notebook\n",
    "\n",
    "This notebook demonstrates the usage of `Anonymeter` on vehicle coupon recommendation dataset, a software to derive GDPR-aligned measures of the privacy of synthetic datasets in an empirical, attack based fashion.\n",
    "\n",
    "`Anonymeter` contains privacy evaluators which measures the risks of singling out, linkability, and inference which might incur to data donors following the release of synthetic dataset. These risk are the three key indicators of factual anonymization according to the European General Data Protection Regulation (GDPR). For more details, please refer to [M. Giomi et al. 2022](https://petsymposium.org/popets/2023/popets-2023-0055.php)."
   ]
  },
  {
   "attachments": {},
   "cell_type": "markdown",
   "id": "1062da6f-d56e-48a5-b62f-fe987e7682fe",
   "metadata": {},
   "source": [
    "### Basic usage pattern\n",
    "\n",
    "For each of these privacy risks anonymeter provide an `Evaluator` class. The high-level classes `SinglingOutEvaluator`, `LinkabilityEvaluator`, and `InferenceEvaluator` are the only thing that you need to import from `Anonymeter`.\n",
    "\n",
    "Despite the different nature of the privacy risks they evaluate, these classes have the same interface and are used in the same way. To instantiate the evaluator you have to provide three dataframes: the original dataset `ori` which has been used to generate the synthetic data, the synthetic data `syn`, and a `control` dataset containing original records which have not been used to generate the synthetic data. \n",
    "\n",
    "Another parameter common to all evaluators is the number of target records to attack (`n_attacks`). A higher number will reduce the statistical uncertainties on the results, at the expense of a longer computation time.\n",
    "\n",
    "```python\n",
    "evaluator = *Evaluator(ori: pd.DataFrame, \n",
    "                       syn: pd.DataFrame, \n",
    "                       control: pd.DataFrame,\n",
    "                       n_attacks: int)\n",
    "```\n",
    "\n",
    "Once instantiated the evaluation pipeline is executed when calling the `evaluate`, and the resulting estimate of the risk can be accessed using the `risk()` method.\n",
    "\n",
    "```python\n",
    "evaluator.evaluate()\n",
    "risk = evaluator.risk()\n",
    "```"
   ]
  },
  {
   "attachments": {},
   "cell_type": "markdown",
   "id": "cb9d6771-69f3-4e49-b143-d5d0bae3ba3c",
   "metadata": {},
   "source": [
    "### A peak under the hood\n",
    "\n",
    "In `Anonymeter` each privacy risk is derived from a privacy attacker whose task is to use the synthetic dataset to come up with a set of *guesses* of the form:\n",
    "- \"there is only one person with attributes X, Y, and Z\" (singling out)\n",
    "- \"records A and B belong to the same person\" (linkability)\n",
    "- \"a person with attributes X and Y also have Z\" (inference)\n",
    "\n",
    "Each evaluation consists of running three different attacks:\n",
    "- the \"main\" privacy attack, in which the attacker uses the synthetic data to guess information on records in the original data.\n",
    "- the \"control\" privacy attack, in which the attacker uses the synthetic data to guess information on records in the control dataset. \n",
    "- the \"baseline\" attack, which models a naive attacker who ignores the synthetic data and guess randomly.\n",
    "\n",
    "Checking how many of these guesses are correct, the success rates of the different attacks are measured and used to derive an estimate of the privacy risk. In particular, the \"control attack\" is used to separate what the attacker learns from the *utility* of the synthetic data, and what is instead indication of privacy leaks. The \"baseline attack\" instead functions as a sanity check. The \"main attack\" attack should outperform random guessing in order for the results to be trusted. "
   ]
  },
  {
   "cell_type": "code",
   "execution_count": 2,
   "id": "c64a6fab-1676-4539-b460-5b2fdb456b04",
   "metadata": {},
   "outputs": [],
   "source": [
    "import os\n",
    "import pandas as pd\n",
    "import matplotlib.pyplot as plt\n",
    "import seaborn as sns\n",
    "\n",
    "from anonymeter.evaluators import SinglingOutEvaluator\n",
    "from anonymeter.evaluators import LinkabilityEvaluator\n",
    "from anonymeter.evaluators import InferenceEvaluator"
   ]
  },
  {
   "attachments": {},
   "cell_type": "markdown",
   "id": "ada19947-b895-4279-aac3-9b87fac2fa6b",
   "metadata": {},
   "source": [
    "## Downloading the data\n",
    "\n",
    "For this example, we will use the famous `Vehicle coupon recommendation` (more details [here](https://archive.ics.uci.edu/dataset/603/in+vehicle+coupon+recommendation)) dataset. For the purpose of demonstrating `Anonymeter`, we will use this data as if each row would in fact refer to a real individual. \n",
    "\n",
    "The synthetic version has been generated by `CTGAN` from [SDV](https://sdv.dev/SDV/user_guides/single_table/ctgan.html), as explained in the paper accompanying this code release. For details on the generation process, e.g. regarding hyperparameters, see Section 6.2.1 of [the accompanying paper](https://petsymposium.org/popets/2023/popets-2023-0055.php))."
   ]
  },
  {
   "cell_type": "code",
   "execution_count": 3,
   "id": "fc128115-2f0c-43b1-9198-5c5594eae7f3",
   "metadata": {},
   "outputs": [],
   "source": [
    "# bucket_url = \"https://storage.googleapis.com/statice-public/anonymeter-datasets/\"\n",
    "\n",
    "ori = pd.read_csv(\"../tests/datasets/vehicle_train.csv\")\n",
    "syn = pd.read_csv(\"../tests/datasets/vehicle_syn.csv\")\n",
    "control = pd.read_csv(\"../tests/datasets/vehicle_control.csv\")"
   ]
  },
  {
   "cell_type": "code",
   "execution_count": 4,
   "id": "f6abeed8-23ae-4d4a-9cdb-006c0bba109c",
   "metadata": {},
   "outputs": [
    {
     "data": {
      "text/html": [
       "<div>\n",
       "<style scoped>\n",
       "    .dataframe tbody tr th:only-of-type {\n",
       "        vertical-align: middle;\n",
       "    }\n",
       "\n",
       "    .dataframe tbody tr th {\n",
       "        vertical-align: top;\n",
       "    }\n",
       "\n",
       "    .dataframe thead th {\n",
       "        text-align: right;\n",
       "    }\n",
       "</style>\n",
       "<table border=\"1\" class=\"dataframe\">\n",
       "  <thead>\n",
       "    <tr style=\"text-align: right;\">\n",
       "      <th></th>\n",
       "      <th>destination</th>\n",
       "      <th>passanger</th>\n",
       "      <th>weather</th>\n",
       "      <th>time</th>\n",
       "      <th>coupon</th>\n",
       "      <th>expiration</th>\n",
       "      <th>gender</th>\n",
       "      <th>age</th>\n",
       "      <th>maritalStatus</th>\n",
       "      <th>has_children</th>\n",
       "      <th>education</th>\n",
       "      <th>occupation</th>\n",
       "      <th>income</th>\n",
       "      <th>car</th>\n",
       "      <th>Bar</th>\n",
       "      <th>CoffeeHouse</th>\n",
       "      <th>toCoupon_GEQ25min</th>\n",
       "      <th>direction_same_or_opp</th>\n",
       "    </tr>\n",
       "  </thead>\n",
       "  <tbody>\n",
       "    <tr>\n",
       "      <th>0</th>\n",
       "      <td>No Urgent Place</td>\n",
       "      <td>Alone</td>\n",
       "      <td>Sunny</td>\n",
       "      <td>2PM</td>\n",
       "      <td>Restaurant(&lt;20)</td>\n",
       "      <td>1d</td>\n",
       "      <td>Female</td>\n",
       "      <td>21</td>\n",
       "      <td>Unmarried partner</td>\n",
       "      <td>1</td>\n",
       "      <td>Some college - no degree</td>\n",
       "      <td>Unemployed</td>\n",
       "      <td>$37500 - $49999</td>\n",
       "      <td>NaN</td>\n",
       "      <td>never</td>\n",
       "      <td>never</td>\n",
       "      <td>0</td>\n",
       "      <td>0</td>\n",
       "    </tr>\n",
       "    <tr>\n",
       "      <th>1</th>\n",
       "      <td>No Urgent Place</td>\n",
       "      <td>Friend(s)</td>\n",
       "      <td>Sunny</td>\n",
       "      <td>10AM</td>\n",
       "      <td>Coffee House</td>\n",
       "      <td>2h</td>\n",
       "      <td>Female</td>\n",
       "      <td>21</td>\n",
       "      <td>Unmarried partner</td>\n",
       "      <td>1</td>\n",
       "      <td>Some college - no degree</td>\n",
       "      <td>Unemployed</td>\n",
       "      <td>$37500 - $49999</td>\n",
       "      <td>NaN</td>\n",
       "      <td>never</td>\n",
       "      <td>never</td>\n",
       "      <td>0</td>\n",
       "      <td>0</td>\n",
       "    </tr>\n",
       "    <tr>\n",
       "      <th>2</th>\n",
       "      <td>No Urgent Place</td>\n",
       "      <td>Friend(s)</td>\n",
       "      <td>Sunny</td>\n",
       "      <td>10AM</td>\n",
       "      <td>Carry out &amp; Take away</td>\n",
       "      <td>2h</td>\n",
       "      <td>Female</td>\n",
       "      <td>21</td>\n",
       "      <td>Unmarried partner</td>\n",
       "      <td>1</td>\n",
       "      <td>Some college - no degree</td>\n",
       "      <td>Unemployed</td>\n",
       "      <td>$37500 - $49999</td>\n",
       "      <td>NaN</td>\n",
       "      <td>never</td>\n",
       "      <td>never</td>\n",
       "      <td>0</td>\n",
       "      <td>0</td>\n",
       "    </tr>\n",
       "    <tr>\n",
       "      <th>3</th>\n",
       "      <td>No Urgent Place</td>\n",
       "      <td>Friend(s)</td>\n",
       "      <td>Sunny</td>\n",
       "      <td>2PM</td>\n",
       "      <td>Coffee House</td>\n",
       "      <td>2h</td>\n",
       "      <td>Female</td>\n",
       "      <td>21</td>\n",
       "      <td>Unmarried partner</td>\n",
       "      <td>1</td>\n",
       "      <td>Some college - no degree</td>\n",
       "      <td>Unemployed</td>\n",
       "      <td>$37500 - $49999</td>\n",
       "      <td>NaN</td>\n",
       "      <td>never</td>\n",
       "      <td>never</td>\n",
       "      <td>0</td>\n",
       "      <td>0</td>\n",
       "    </tr>\n",
       "    <tr>\n",
       "      <th>4</th>\n",
       "      <td>No Urgent Place</td>\n",
       "      <td>Friend(s)</td>\n",
       "      <td>Sunny</td>\n",
       "      <td>2PM</td>\n",
       "      <td>Coffee House</td>\n",
       "      <td>1d</td>\n",
       "      <td>Female</td>\n",
       "      <td>21</td>\n",
       "      <td>Unmarried partner</td>\n",
       "      <td>1</td>\n",
       "      <td>Some college - no degree</td>\n",
       "      <td>Unemployed</td>\n",
       "      <td>$37500 - $49999</td>\n",
       "      <td>NaN</td>\n",
       "      <td>never</td>\n",
       "      <td>never</td>\n",
       "      <td>0</td>\n",
       "      <td>0</td>\n",
       "    </tr>\n",
       "    <tr>\n",
       "      <th>5</th>\n",
       "      <td>No Urgent Place</td>\n",
       "      <td>Friend(s)</td>\n",
       "      <td>Sunny</td>\n",
       "      <td>6PM</td>\n",
       "      <td>Restaurant(&lt;20)</td>\n",
       "      <td>2h</td>\n",
       "      <td>Female</td>\n",
       "      <td>21</td>\n",
       "      <td>Unmarried partner</td>\n",
       "      <td>1</td>\n",
       "      <td>Some college - no degree</td>\n",
       "      <td>Unemployed</td>\n",
       "      <td>$37500 - $49999</td>\n",
       "      <td>NaN</td>\n",
       "      <td>never</td>\n",
       "      <td>never</td>\n",
       "      <td>0</td>\n",
       "      <td>0</td>\n",
       "    </tr>\n",
       "    <tr>\n",
       "      <th>6</th>\n",
       "      <td>No Urgent Place</td>\n",
       "      <td>Friend(s)</td>\n",
       "      <td>Sunny</td>\n",
       "      <td>2PM</td>\n",
       "      <td>Carry out &amp; Take away</td>\n",
       "      <td>1d</td>\n",
       "      <td>Female</td>\n",
       "      <td>21</td>\n",
       "      <td>Unmarried partner</td>\n",
       "      <td>1</td>\n",
       "      <td>Some college - no degree</td>\n",
       "      <td>Unemployed</td>\n",
       "      <td>$37500 - $49999</td>\n",
       "      <td>NaN</td>\n",
       "      <td>never</td>\n",
       "      <td>never</td>\n",
       "      <td>0</td>\n",
       "      <td>0</td>\n",
       "    </tr>\n",
       "    <tr>\n",
       "      <th>7</th>\n",
       "      <td>No Urgent Place</td>\n",
       "      <td>Kid(s)</td>\n",
       "      <td>Sunny</td>\n",
       "      <td>10AM</td>\n",
       "      <td>Restaurant(&lt;20)</td>\n",
       "      <td>2h</td>\n",
       "      <td>Female</td>\n",
       "      <td>21</td>\n",
       "      <td>Unmarried partner</td>\n",
       "      <td>1</td>\n",
       "      <td>Some college - no degree</td>\n",
       "      <td>Unemployed</td>\n",
       "      <td>$37500 - $49999</td>\n",
       "      <td>NaN</td>\n",
       "      <td>never</td>\n",
       "      <td>never</td>\n",
       "      <td>0</td>\n",
       "      <td>0</td>\n",
       "    </tr>\n",
       "    <tr>\n",
       "      <th>8</th>\n",
       "      <td>No Urgent Place</td>\n",
       "      <td>Kid(s)</td>\n",
       "      <td>Sunny</td>\n",
       "      <td>10AM</td>\n",
       "      <td>Carry out &amp; Take away</td>\n",
       "      <td>2h</td>\n",
       "      <td>Female</td>\n",
       "      <td>21</td>\n",
       "      <td>Unmarried partner</td>\n",
       "      <td>1</td>\n",
       "      <td>Some college - no degree</td>\n",
       "      <td>Unemployed</td>\n",
       "      <td>$37500 - $49999</td>\n",
       "      <td>NaN</td>\n",
       "      <td>never</td>\n",
       "      <td>never</td>\n",
       "      <td>0</td>\n",
       "      <td>0</td>\n",
       "    </tr>\n",
       "    <tr>\n",
       "      <th>9</th>\n",
       "      <td>No Urgent Place</td>\n",
       "      <td>Kid(s)</td>\n",
       "      <td>Sunny</td>\n",
       "      <td>10AM</td>\n",
       "      <td>Bar</td>\n",
       "      <td>1d</td>\n",
       "      <td>Female</td>\n",
       "      <td>21</td>\n",
       "      <td>Unmarried partner</td>\n",
       "      <td>1</td>\n",
       "      <td>Some college - no degree</td>\n",
       "      <td>Unemployed</td>\n",
       "      <td>$37500 - $49999</td>\n",
       "      <td>NaN</td>\n",
       "      <td>never</td>\n",
       "      <td>never</td>\n",
       "      <td>0</td>\n",
       "      <td>0</td>\n",
       "    </tr>\n",
       "  </tbody>\n",
       "</table>\n",
       "</div>"
      ],
      "text/plain": [
       "       destination  passanger weather  time                 coupon expiration  \\\n",
       "0  No Urgent Place      Alone   Sunny   2PM        Restaurant(<20)         1d   \n",
       "1  No Urgent Place  Friend(s)   Sunny  10AM           Coffee House         2h   \n",
       "2  No Urgent Place  Friend(s)   Sunny  10AM  Carry out & Take away         2h   \n",
       "3  No Urgent Place  Friend(s)   Sunny   2PM           Coffee House         2h   \n",
       "4  No Urgent Place  Friend(s)   Sunny   2PM           Coffee House         1d   \n",
       "5  No Urgent Place  Friend(s)   Sunny   6PM        Restaurant(<20)         2h   \n",
       "6  No Urgent Place  Friend(s)   Sunny   2PM  Carry out & Take away         1d   \n",
       "7  No Urgent Place     Kid(s)   Sunny  10AM        Restaurant(<20)         2h   \n",
       "8  No Urgent Place     Kid(s)   Sunny  10AM  Carry out & Take away         2h   \n",
       "9  No Urgent Place     Kid(s)   Sunny  10AM                    Bar         1d   \n",
       "\n",
       "   gender age      maritalStatus  has_children                 education  \\\n",
       "0  Female  21  Unmarried partner             1  Some college - no degree   \n",
       "1  Female  21  Unmarried partner             1  Some college - no degree   \n",
       "2  Female  21  Unmarried partner             1  Some college - no degree   \n",
       "3  Female  21  Unmarried partner             1  Some college - no degree   \n",
       "4  Female  21  Unmarried partner             1  Some college - no degree   \n",
       "5  Female  21  Unmarried partner             1  Some college - no degree   \n",
       "6  Female  21  Unmarried partner             1  Some college - no degree   \n",
       "7  Female  21  Unmarried partner             1  Some college - no degree   \n",
       "8  Female  21  Unmarried partner             1  Some college - no degree   \n",
       "9  Female  21  Unmarried partner             1  Some college - no degree   \n",
       "\n",
       "   occupation           income  car    Bar CoffeeHouse  toCoupon_GEQ25min  \\\n",
       "0  Unemployed  $37500 - $49999  NaN  never       never                  0   \n",
       "1  Unemployed  $37500 - $49999  NaN  never       never                  0   \n",
       "2  Unemployed  $37500 - $49999  NaN  never       never                  0   \n",
       "3  Unemployed  $37500 - $49999  NaN  never       never                  0   \n",
       "4  Unemployed  $37500 - $49999  NaN  never       never                  0   \n",
       "5  Unemployed  $37500 - $49999  NaN  never       never                  0   \n",
       "6  Unemployed  $37500 - $49999  NaN  never       never                  0   \n",
       "7  Unemployed  $37500 - $49999  NaN  never       never                  0   \n",
       "8  Unemployed  $37500 - $49999  NaN  never       never                  0   \n",
       "9  Unemployed  $37500 - $49999  NaN  never       never                  0   \n",
       "\n",
       "   direction_same_or_opp  \n",
       "0                      0  \n",
       "1                      0  \n",
       "2                      0  \n",
       "3                      0  \n",
       "4                      0  \n",
       "5                      0  \n",
       "6                      0  \n",
       "7                      0  \n",
       "8                      0  \n",
       "9                      0  "
      ]
     },
     "execution_count": 4,
     "metadata": {},
     "output_type": "execute_result"
    }
   ],
   "source": [
    "ori.head(10)"
   ]
  },
  {
   "attachments": {},
   "cell_type": "markdown",
   "id": "f1d19013-b7cf-48e3-a068-6c1e5449884e",
   "metadata": {},
   "source": [
    "As visible the dataset contains several demographic information, as well as information regarding the education, financial situation, and personal life of some tens of thousands of \"individuals\"."
   ]
  },
  {
   "attachments": {},
   "cell_type": "markdown",
   "id": "52811434-e3ed-464e-8bbc-eafb1dfe0eb1",
   "metadata": {
    "tags": []
   },
   "source": [
    "### Measuring the singling out risk\n",
    "\n",
    "The `SinglingOutEvaluator` try to measure how much the synthetic data can help an attacker finding combination of attributes that single out records in the training data. \n",
    "\n",
    "With the following code we evaluate the robustness of the synthetic data to \"univariate\" singling out attacks, which try to find unique values of some attribute which single out an individual. \n",
    "\n",
    "\n",
    "##### NOTE:\n",
    "\n",
    "The `SingingOutEvaluator` can sometimes raise a `RuntimeError`. This happens when not enough singling out queries are found. Increasing `n_attacks` will make this condition less frequent and the evaluation more robust, although much slower.\n"
   ]
  },
  {
   "cell_type": "code",
   "execution_count": 112,
   "id": "43acdda6-19d5-4611-ba4f-498fc7bd2d40",
   "metadata": {},
   "outputs": [
    {
     "name": "stderr",
     "output_type": "stream",
     "text": [
      "Found 4 failed queries out of 50. Check DEBUG messages for more details.\n",
      "Attack `univariate` could generate only 0 singling out queries out of the requested 50. This can probably lead to an underestimate of the singling out risk.\n",
      "c:\\Users\\DELL\\AppData\\Local\\Programs\\Python\\Python310\\lib\\site-packages\\anonymeter\\stats\\confidence.py:215: UserWarning: Attack is as good or worse as baseline model. Estimated rates: attack = 0.035673799566679355, baseline = 0.035673799566679355. Analysis results cannot be trusted.\n",
      "  self._sanity_check()\n"
     ]
    },
    {
     "name": "stdout",
     "output_type": "stream",
     "text": [
      "PrivacyRisk(value=0.0, ci=(0.0, 0.05231670688394393))\n"
     ]
    },
    {
     "name": "stderr",
     "output_type": "stream",
     "text": [
      "Found 5 failed queries out of 90. Check DEBUG messages for more details.\n",
      "Attack `univariate` could generate only 0 singling out queries out of the requested 90. This can probably lead to an underestimate of the singling out risk.\n",
      "c:\\Users\\DELL\\AppData\\Local\\Programs\\Python\\Python310\\lib\\site-packages\\anonymeter\\stats\\confidence.py:215: UserWarning: Attack is as good or worse as baseline model. Estimated rates: attack = 0.02046781278216339, baseline = 0.02046781278216339. Analysis results cannot be trusted.\n",
      "  self._sanity_check()\n"
     ]
    },
    {
     "name": "stdout",
     "output_type": "stream",
     "text": [
      "PrivacyRisk(value=0.0, ci=(0.0, 0.02955069655328399))\n"
     ]
    },
    {
     "name": "stderr",
     "output_type": "stream",
     "text": [
      "Found 8 failed queries out of 130. Check DEBUG messages for more details.\n",
      "Attack `univariate` could generate only 0 singling out queries out of the requested 130. This can probably lead to an underestimate of the singling out risk.\n",
      "c:\\Users\\DELL\\AppData\\Local\\Programs\\Python\\Python310\\lib\\site-packages\\anonymeter\\stats\\confidence.py:215: UserWarning: Attack is as good or worse as baseline model. Estimated rates: attack = 0.01435078059721571, baseline = 0.01435078059721571. Analysis results cannot be trusted.\n",
      "  self._sanity_check()\n"
     ]
    },
    {
     "name": "stdout",
     "output_type": "stream",
     "text": [
      "PrivacyRisk(value=0.0, ci=(0.0, 0.02059055914792904))\n"
     ]
    },
    {
     "name": "stderr",
     "output_type": "stream",
     "text": [
      "Found 7 failed queries out of 170. Check DEBUG messages for more details.\n",
      "Attack `univariate` could generate only 0 singling out queries out of the requested 170. This can probably lead to an underestimate of the singling out risk.\n",
      "c:\\Users\\DELL\\AppData\\Local\\Programs\\Python\\Python310\\lib\\site-packages\\anonymeter\\stats\\confidence.py:215: UserWarning: Attack is as good or worse as baseline model. Estimated rates: attack = 0.011048741901827728, baseline = 0.011048741901827728. Analysis results cannot be trusted.\n",
      "  self._sanity_check()\n"
     ]
    },
    {
     "name": "stdout",
     "output_type": "stream",
     "text": [
      "PrivacyRisk(value=0.0, ci=(0.0, 0.01579984909951302))\n"
     ]
    },
    {
     "name": "stderr",
     "output_type": "stream",
     "text": [
      "Found 10 failed queries out of 210. Check DEBUG messages for more details.\n",
      "Attack `univariate` could generate only 0 singling out queries out of the requested 210. This can probably lead to an underestimate of the singling out risk.\n",
      "c:\\Users\\DELL\\AppData\\Local\\Programs\\Python\\Python310\\lib\\site-packages\\anonymeter\\stats\\confidence.py:215: UserWarning: Attack is as good or worse as baseline model. Estimated rates: attack = 0.008982025379641618, baseline = 0.008982025379641618. Analysis results cannot be trusted.\n",
      "  self._sanity_check()\n"
     ]
    },
    {
     "name": "stdout",
     "output_type": "stream",
     "text": [
      "PrivacyRisk(value=0.0, ci=(0.0, 0.012817630390946876))\n"
     ]
    },
    {
     "name": "stderr",
     "output_type": "stream",
     "text": [
      "Found 16 failed queries out of 250. Check DEBUG messages for more details.\n",
      "Attack `univariate` could generate only 0 singling out queries out of the requested 250. This can probably lead to an underestimate of the singling out risk.\n",
      "c:\\Users\\DELL\\AppData\\Local\\Programs\\Python\\Python310\\lib\\site-packages\\anonymeter\\stats\\confidence.py:215: UserWarning: Attack is as good or worse as baseline model. Estimated rates: attack = 0.007566649747722288, baseline = 0.007566649747722288. Analysis results cannot be trusted.\n",
      "  self._sanity_check()\n"
     ]
    },
    {
     "name": "stdout",
     "output_type": "stream",
     "text": [
      "PrivacyRisk(value=0.0, ci=(0.0, 0.010782445684877122))\n"
     ]
    },
    {
     "name": "stderr",
     "output_type": "stream",
     "text": [
      "Found 19 failed queries out of 290. Check DEBUG messages for more details.\n",
      "Attack `univariate` could generate only 0 singling out queries out of the requested 290. This can probably lead to an underestimate of the singling out risk.\n",
      "c:\\Users\\DELL\\AppData\\Local\\Programs\\Python\\Python310\\lib\\site-packages\\anonymeter\\stats\\confidence.py:215: UserWarning: Attack is as good or worse as baseline model. Estimated rates: attack = 0.006536618141142284, baseline = 0.006536618141142284. Analysis results cannot be trusted.\n",
      "  self._sanity_check()\n"
     ]
    },
    {
     "name": "stdout",
     "output_type": "stream",
     "text": [
      "PrivacyRisk(value=0.0, ci=(0.0, 0.0093049972410264))\n"
     ]
    },
    {
     "name": "stderr",
     "output_type": "stream",
     "text": [
      "Found 21 failed queries out of 330. Check DEBUG messages for more details.\n",
      "Attack `univariate` could generate only 0 singling out queries out of the requested 330. This can probably lead to an underestimate of the singling out risk.\n",
      "c:\\Users\\DELL\\AppData\\Local\\Programs\\Python\\Python310\\lib\\site-packages\\anonymeter\\stats\\confidence.py:215: UserWarning: Attack is as good or worse as baseline model. Estimated rates: attack = 0.0057534178562845435, baseline = 0.0057534178562845435. Analysis results cannot be trusted.\n",
      "  self._sanity_check()\n"
     ]
    },
    {
     "name": "stdout",
     "output_type": "stream",
     "text": [
      "PrivacyRisk(value=0.0, ci=(0.0, 0.008183645494474553))\n"
     ]
    },
    {
     "name": "stderr",
     "output_type": "stream",
     "text": [
      "Found 21 failed queries out of 370. Check DEBUG messages for more details.\n",
      "Attack `univariate` could generate only 0 singling out queries out of the requested 370. This can probably lead to an underestimate of the singling out risk.\n",
      "c:\\Users\\DELL\\AppData\\Local\\Programs\\Python\\Python310\\lib\\site-packages\\anonymeter\\stats\\confidence.py:215: UserWarning: Attack is as good or worse as baseline model. Estimated rates: attack = 0.005137818091139816, baseline = 0.005137818091139816. Analysis results cannot be trusted.\n",
      "  self._sanity_check()\n"
     ]
    },
    {
     "name": "stdout",
     "output_type": "stream",
     "text": [
      "PrivacyRisk(value=0.0, ci=(0.0, 0.007303496059679765))\n"
     ]
    },
    {
     "name": "stderr",
     "output_type": "stream",
     "text": [
      "Found 19 failed queries out of 410. Check DEBUG messages for more details.\n",
      "Attack `univariate` could generate only 0 singling out queries out of the requested 410. This can probably lead to an underestimate of the singling out risk.\n",
      "c:\\Users\\DELL\\AppData\\Local\\Programs\\Python\\Python310\\lib\\site-packages\\anonymeter\\stats\\confidence.py:215: UserWarning: Attack is as good or worse as baseline model. Estimated rates: attack = 0.004641220374151205, baseline = 0.004641220374151205. Analysis results cannot be trusted.\n",
      "  self._sanity_check()\n"
     ]
    },
    {
     "name": "stdout",
     "output_type": "stream",
     "text": [
      "PrivacyRisk(value=0.0, ci=(0.0, 0.006594282316527336))\n"
     ]
    },
    {
     "name": "stderr",
     "output_type": "stream",
     "text": [
      "Found 28 failed queries out of 450. Check DEBUG messages for more details.\n",
      "Attack `univariate` could generate only 0 singling out queries out of the requested 450. This can probably lead to an underestimate of the singling out risk.\n",
      "c:\\Users\\DELL\\AppData\\Local\\Programs\\Python\\Python310\\lib\\site-packages\\anonymeter\\stats\\confidence.py:215: UserWarning: Attack is as good or worse as baseline model. Estimated rates: attack = 0.004232159431485332, baseline = 0.004232159431485332. Analysis results cannot be trusted.\n",
      "  self._sanity_check()\n"
     ]
    },
    {
     "name": "stdout",
     "output_type": "stream",
     "text": [
      "PrivacyRisk(value=0.0, ci=(0.0, 0.006010615147718209))\n"
     ]
    },
    {
     "name": "stderr",
     "output_type": "stream",
     "text": [
      "Found 17 failed queries out of 490. Check DEBUG messages for more details.\n",
      "Attack `univariate` could generate only 0 singling out queries out of the requested 490. This can probably lead to an underestimate of the singling out risk.\n"
     ]
    },
    {
     "name": "stdout",
     "output_type": "stream",
     "text": [
      "PrivacyRisk(value=0.0, ci=(0.0, 0.005521868503117727))\n"
     ]
    },
    {
     "name": "stderr",
     "output_type": "stream",
     "text": [
      "c:\\Users\\DELL\\AppData\\Local\\Programs\\Python\\Python310\\lib\\site-packages\\anonymeter\\stats\\confidence.py:215: UserWarning: Attack is as good or worse as baseline model. Estimated rates: attack = 0.0038893644428594815, baseline = 0.0038893644428594815. Analysis results cannot be trusted.\n",
      "  self._sanity_check()\n"
     ]
    }
   ],
   "source": [
    "for i in range(50,500,40):\n",
    "\n",
    "    evaluator = SinglingOutEvaluator(ori=ori, \n",
    "                                    syn=syn, \n",
    "                                    control=control,\n",
    "                                    n_attacks=i)\n",
    "\n",
    "    try:\n",
    "        evaluator.evaluate(mode='univariate')\n",
    "        risk = evaluator.risk()\n",
    "        print(risk)\n",
    "\n",
    "    except RuntimeError as ex: \n",
    "        print(f\"Singling out evaluation failed with {ex}. Please re-run this cell.\"\n",
    "            \"For more stable results increase `n_attacks`. Note that this will \"\n",
    "            \"make the evaluation slower.\")"
   ]
  },
  {
   "cell_type": "code",
   "execution_count": 63,
   "id": "4af6f284-81a3-4b84-a39b-b2beb6a21b24",
   "metadata": {},
   "outputs": [
    {
     "data": {
      "text/plain": [
       "[]"
      ]
     },
     "execution_count": 63,
     "metadata": {},
     "output_type": "execute_result"
    }
   ],
   "source": [
    "evaluator.queries()[:3]"
   ]
  },
  {
   "attachments": {},
   "cell_type": "markdown",
   "id": "b0693e9c-0f69-4c4c-b506-4e7bd7190031",
   "metadata": {},
   "source": [
    "### Inspecting the results in more details"
   ]
  },
  {
   "attachments": {},
   "cell_type": "markdown",
   "id": "f7db3b47-22e3-4d1f-8495-770799c378cc",
   "metadata": {},
   "source": [
    "There are two methods to inspect the results. The high level `risk()` method gives the high level estimation of the privacy risk, and its confidence interval."
   ]
  },
  {
   "cell_type": "code",
   "execution_count": 64,
   "id": "4ea008ba-05a8-47b2-a316-132fe628cae3",
   "metadata": {},
   "outputs": [
    {
     "data": {
      "text/plain": [
       "PrivacyRisk(value=0.0, ci=(0.0, 0.01787986137444578))"
      ]
     },
     "execution_count": 64,
     "metadata": {},
     "output_type": "execute_result"
    }
   ],
   "source": [
    "evaluator.risk(confidence_level=0.95)"
   ]
  },
  {
   "attachments": {},
   "cell_type": "markdown",
   "id": "ba233989-5556-4f89-8037-1c26d78c8127",
   "metadata": {},
   "source": [
    "for more information, the `results()` method gives the success rates of the three attacks (the \"main\" one, the baseline one, and the one against control) that enters `Anonymeter` risk calculation."
   ]
  },
  {
   "cell_type": "code",
   "execution_count": 65,
   "id": "367928ba-7a1e-4c20-9dc6-84c490873700",
   "metadata": {},
   "outputs": [
    {
     "name": "stdout",
     "output_type": "stream",
     "text": [
      "Successs rate of main attack: SuccessRate(value=0.012485122184038298, error=0.012485122184038298)\n",
      "Successs rate of baseline attack: SuccessRate(value=0.012485122184038298, error=0.012485122184038298)\n",
      "Successs rate of control attack: SuccessRate(value=0.012485122184038298, error=0.012485122184038298)\n"
     ]
    }
   ],
   "source": [
    "res = evaluator.results()\n",
    "\n",
    "print(\"Successs rate of main attack:\", res.attack_rate)\n",
    "print(\"Successs rate of baseline attack:\", res.baseline_rate)\n",
    "print(\"Successs rate of control attack:\", res.control_rate)"
   ]
  },
  {
   "attachments": {},
   "cell_type": "markdown",
   "id": "8543aad4-897c-4e80-96a7-a47aea1caf22",
   "metadata": {},
   "source": [
    "Note that you can obtain the `PrivacyRisk` from the attack results by:"
   ]
  },
  {
   "cell_type": "code",
   "execution_count": 39,
   "id": "d1081269-1830-430f-8305-9f254641de89",
   "metadata": {},
   "outputs": [
    {
     "data": {
      "text/plain": [
       "PrivacyRisk(value=0.0, ci=(0.0, 0.026651316150077816))"
      ]
     },
     "execution_count": 39,
     "metadata": {},
     "output_type": "execute_result"
    }
   ],
   "source": [
    "res.risk()"
   ]
  },
  {
   "attachments": {},
   "cell_type": "markdown",
   "id": "00f4e993-defe-4c83-a4b3-da2cdf2ca02f",
   "metadata": {},
   "source": [
    "### Checking singling out with multivariate predicates\n",
    "\n",
    "The `SinglingOutEvaluator` can also attack the dataset using predicates which are combining different attributes. These are the so called `multivariate` predicates. \n",
    "\n",
    "To run the analysis using the `multivariate` singling out attack, the `mode` parameter of `evaluate` needs to be set correctly. The number of attributes used in the attacker queries via the `n_cols` parameter, set to 4 in this example. "
   ]
  },
  {
   "cell_type": "code",
   "execution_count": 113,
   "id": "1a875b5f-4f75-4585-83b5-d0703ac82f90",
   "metadata": {
    "tags": []
   },
   "outputs": [
    {
     "name": "stderr",
     "output_type": "stream",
     "text": [
      "Found 20 failed queries out of 100. Check DEBUG messages for more details.\n"
     ]
    },
    {
     "name": "stdout",
     "output_type": "stream",
     "text": [
      "PrivacyRisk(value=0.027566373942771533, ci=(0.0, 0.07049101497097979))\n"
     ]
    }
   ],
   "source": [
    "evaluator = SinglingOutEvaluator(ori=ori, \n",
    "                                 syn=syn, \n",
    "                                 control=control,\n",
    "                                 n_attacks=100, # this attack takes longer\n",
    "                                 n_cols=4)\n",
    "\n",
    "\n",
    "try:\n",
    "    evaluator.evaluate(mode='multivariate')\n",
    "    risk = evaluator.risk()\n",
    "    print(risk)\n",
    "\n",
    "except RuntimeError as ex: \n",
    "    print(f\"Singling out evaluation failed with {ex}. Please re-run this cell.\"\n",
    "          \"For more stable results increase `n_attacks`. Note that this will \"\n",
    "          \"make the evaluation slower.\")"
   ]
  },
  {
   "cell_type": "code",
   "execution_count": 67,
   "id": "786dbb5b-6b52-41c1-8d07-2d9467a3d649",
   "metadata": {},
   "outputs": [
    {
     "data": {
      "text/plain": [
       "[\"occupation== 'Healthcare Support' & time== '7AM' & coupon== 'Restaurant(20-50)' & has_children>= 1\",\n",
       " \"direction_same_or_opp<= 0 & passanger== 'Kid(s)' & toCoupon_GEQ25min>= 1 & income== '$62500 - $74999'\",\n",
       " \"Bar.isna() & coupon== 'Bar' & has_children>= 1 & income== '$62500 - $74999'\"]"
      ]
     },
     "execution_count": 67,
     "metadata": {},
     "output_type": "execute_result"
    }
   ],
   "source": [
    "evaluator.queries()[:3]"
   ]
  },
  {
   "attachments": {},
   "cell_type": "markdown",
   "id": "acff772b-3f99-402d-b1b6-01b0e09bd5b1",
   "metadata": {},
   "source": [
    "# Measuring the Linkability risk\n",
    "\n",
    "The `LinkabilityEvaluator` allows one to know how much the synthetic data will help an adversary who tries to link two other datasets based on a subset of attributes. \n",
    "\n",
    "For example, suppose that the adversary finds dataset A containing, among other fields, information about the profession and education of people, and dataset B containing some demographic and health related information. Can the attacker use the synthetic dataset to link these two datasets?\n",
    "\n",
    "To run the `LinkabilityEvaluator` one needs to specify which columns of auxiliary information are available to the attacker, and how they are distributed between the two datasets A and B. This is done using the `aux_cols` parameter."
   ]
  },
  {
   "cell_type": "code",
   "execution_count": 128,
   "id": "dad588b3-b241-4256-ac11-ae73d9206782",
   "metadata": {},
   "outputs": [
    {
     "data": {
      "text/plain": [
       "PrivacyRisk(value=0.006670191666843522, ci=(0.0, 0.04074888576425517))"
      ]
     },
     "execution_count": 128,
     "metadata": {},
     "output_type": "execute_result"
    }
   ],
   "source": [
    "aux_cols = [\n",
    "    ['destination', 'weather', 'time', 'Bar', 'coupon'],\n",
    "    [ 'gender', 'maritalStatus', 'income', 'age', 'education']\n",
    "]\n",
    "\n",
    "evaluator = LinkabilityEvaluator(ori=ori, \n",
    "                                syn=syn, \n",
    "                                control=control,\n",
    "                                n_attacks=150,\n",
    "                                aux_cols=aux_cols,\n",
    "                                n_neighbors=10)\n",
    "\n",
    "evaluator.evaluate(n_jobs=-2)  # n_jobs follow joblib convention. -1 = all cores, -2 = all execept one\n",
    "evaluator.risk()"
   ]
  },
  {
   "cell_type": "code",
   "execution_count": 129,
   "id": "321da78a-d695-4d7c-8a62-f1a226bfc04a",
   "metadata": {},
   "outputs": [
    {
     "name": "stdout",
     "output_type": "stream",
     "text": [
      "Successs rate of main attack: SuccessRate(value=0.03198571729667676, error=0.025160965973709315)\n",
      "Successs rate of baseline attack: SuccessRate(value=0.025485518925797278, error=0.02182138977457023)\n",
      "Successs rate of control attack: SuccessRate(value=0.025485518925797278, error=0.02182138977457023)\n"
     ]
    }
   ],
   "source": [
    "res = evaluator.results()\n",
    "\n",
    "print(\"Successs rate of main attack:\", res.attack_rate)\n",
    "print(\"Successs rate of baseline attack:\", res.baseline_rate)\n",
    "print(\"Successs rate of control attack:\", res.control_rate)"
   ]
  },
  {
   "attachments": {},
   "cell_type": "markdown",
   "id": "f0190af5-a184-46cf-a048-30ecbe82fd51",
   "metadata": {},
   "source": [
    "As visible, the attack is not very successful and the linkability risk is low. The `n_neighbor` parameter can be used to allow for weaker indirect links to be scored as successes. It will have an impact on the risk estimate. To check the measured risk for different values of `n_neighbor` you don't have to re-run the evaluation. Rather, do:"
   ]
  },
  {
   "cell_type": "code",
   "execution_count": 73,
   "id": "c4d3644a-dd36-4807-aa3f-cf244cfd5d55",
   "metadata": {},
   "outputs": [
    {
     "name": "stdout",
     "output_type": "stream",
     "text": [
      "PrivacyRisk(value=0.003985322385878429, ci=(0.0, 0.0212497131298653))\n"
     ]
    },
    {
     "name": "stderr",
     "output_type": "stream",
     "text": [
      "c:\\Users\\DELL\\AppData\\Local\\Programs\\Python\\Python310\\lib\\site-packages\\anonymeter\\stats\\confidence.py:215: UserWarning: Attack is as good or worse as baseline model. Estimated rates: attack = 0.01544558335175873, baseline = 0.01544558335175873. Analysis results cannot be trusted.\n",
      "  self._sanity_check()\n"
     ]
    }
   ],
   "source": [
    "print(evaluator.risk(n_neighbors=7))"
   ]
  }
 ],
 "metadata": {
  "kernelspec": {
   "display_name": "sdk",
   "language": "python",
   "name": "python3"
  },
  "language_info": {
   "codemirror_mode": {
    "name": "ipython",
    "version": 3
   },
   "file_extension": ".py",
   "mimetype": "text/x-python",
   "name": "python",
   "nbconvert_exporter": "python",
   "pygments_lexer": "ipython3",
   "version": "3.10.1"
  },
  "vscode": {
   "interpreter": {
    "hash": "237cf5f6b3dcd73bf2688629baee50bd53e43ee0aa8f2bde7060bbd4d3c193da"
   }
  }
 },
 "nbformat": 4,
 "nbformat_minor": 5
}
